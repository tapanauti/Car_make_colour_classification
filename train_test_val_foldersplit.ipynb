{
 "cells": [
  {
   "cell_type": "code",
   "execution_count": 4,
   "metadata": {},
   "outputs": [],
   "source": [
    "import os\n",
    "\n",
    "import numpy as np\n",
    "\n",
    "import shutil\n",
    "\n",
    "rootdir= './images' #path of the original folder\n",
    "\n",
    "classes = ['Audi','BMW','Citroen','Mazda','Peugeot','VW']\n",
    "\n",
    "for i in classes:\n",
    "    os.makedirs(rootdir +'/train/' + i)\n",
    "\n",
    "    os.makedirs(rootdir +'/test/' + i)\n",
    "\n",
    "    os.makedirs(rootdir +'/val/' + i)\n",
    "\n",
    "    source = rootdir + '/' + i\n",
    "\n",
    "    allFileNames = os.listdir(source)\n",
    "\n",
    "    np.random.shuffle(allFileNames)\n",
    "\n",
    "    test_ratio = 0.15\n",
    "\n",
    "    val_ratio = 0.15\n",
    "\n",
    "    train_FileNames, test_FileNames, val_FileNames = np.split(np.array(allFileNames),\n",
    "                                                        [int(len(allFileNames)* (1 - test_ratio)), int(len(allFileNames) * (1 - val_ratio))])\n",
    "\n",
    "    train_FileNames = [source+'/'+ name for name in train_FileNames.tolist()]\n",
    "    test_FileNames = [source+'/' + name for name in test_FileNames.tolist()]\n",
    "    val_FileNames = [source+'/' + name for name in val_FileNames.tolist()]\n",
    "\n",
    "    for name in train_FileNames:\n",
    "        shutil.copy(name, rootdir +'/train/' + i)\n",
    "\n",
    "    for name in test_FileNames:\n",
    "        shutil.copy(name, rootdir +'/test/' + i)\n",
    "\n",
    "    for name in val_FileNames:\n",
    "        shutil.copy(name, rootdir +'/test/' + i)"
   ]
  }
 ],
 "metadata": {
  "kernelspec": {
   "display_name": "Python 3.10.6 64-bit",
   "language": "python",
   "name": "python3"
  },
  "language_info": {
   "codemirror_mode": {
    "name": "ipython",
    "version": 3
   },
   "file_extension": ".py",
   "mimetype": "text/x-python",
   "name": "python",
   "nbconvert_exporter": "python",
   "pygments_lexer": "ipython3",
   "version": "3.10.6"
  },
  "orig_nbformat": 4,
  "vscode": {
   "interpreter": {
    "hash": "a42ccb73e7d9bfdf27e036f1d2b8b681e55fc0743cc5586bc2474d4a60f4b886"
   }
  }
 },
 "nbformat": 4,
 "nbformat_minor": 2
}
