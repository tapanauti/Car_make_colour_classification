{
 "cells": [
  {
   "cell_type": "code",
   "execution_count": 11,
   "metadata": {},
   "outputs": [],
   "source": [
    "import os\n",
    "import shutil~\n",
    "\n",
    "source_folder = 'archive/val/'\n",
    "destination_folder = 'archive/val/'\n",
    "\n",
    "# fetch all files\n",
    "for i in os.listdir(source_folder):\n",
    "    # print(i)\n",
    "    x = os.path.join(source_folder,i)\n",
    "    # print(x)\n",
    "    for file_name in os.listdir(x):\n",
    "        # construct full file path\n",
    "        source = x + '/' + file_name\n",
    "        # print(source)\n",
    "        destination = destination_folder + file_name\n",
    "        # print(destination)\n",
    "        # copy only files\n",
    "        if os.path.isfile(source):\n",
    "            shutil.copy(source, destination)\n",
    "            # print('copied', file_name)"
   ]
  }
 ],
 "metadata": {
  "kernelspec": {
   "display_name": "Python 3.10.6 64-bit",
   "language": "python",
   "name": "python3"
  },
  "language_info": {
   "codemirror_mode": {
    "name": "ipython",
    "version": 3
   },
   "file_extension": ".py",
   "mimetype": "text/x-python",
   "name": "python",
   "nbconvert_exporter": "python",
   "pygments_lexer": "ipython3",
   "version": "3.10.6"
  },
  "orig_nbformat": 4,
  "vscode": {
   "interpreter": {
    "hash": "a42ccb73e7d9bfdf27e036f1d2b8b681e55fc0743cc5586bc2474d4a60f4b886"
   }
  }
 },
 "nbformat": 4,
 "nbformat_minor": 2
}
