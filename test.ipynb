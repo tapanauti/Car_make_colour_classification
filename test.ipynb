{
 "cells": [
  {
   "cell_type": "code",
   "execution_count": 8,
   "metadata": {},
   "outputs": [
    {
     "name": "stdout",
     "output_type": "stream",
     "text": [
      "Alfa_Romeo\n",
      "Aston_Martin\n",
      "Audi\n",
      "Bentley\n",
      "BMW\n",
      "Citroen\n",
      "Cupra\n",
      "Dacia\n",
      "Daewoo\n",
      "Dodge\n",
      "Fiat\n",
      "Ford\n",
      "Honda\n",
      "Hyundai\n",
      "Jaguar\n",
      "Jeep\n",
      "Kia\n",
      "Land_Rover\n",
      "Lexus\n",
      "Maserati\n",
      "Mazda\n",
      "Mercedes_Benz\n",
      "MG\n",
      "Mini_Cooper\n",
      "Mitsubishi\n",
      "Nissan\n",
      "Peugeot\n",
      "Porche\n",
      "Renault\n",
      "Seat\n",
      "Skoda\n",
      "Smart\n",
      "Subaru\n",
      "Suzuki\n",
      "Tesla\n",
      "Toyota\n",
      "Vauxhall\n",
      "Volvo\n",
      "VW\n"
     ]
    }
   ],
   "source": [
    "import os\n",
    "\n",
    "dir = 'C:/Users/Admin/google-images-download/images/'\n",
    "\n",
    "\n",
    "for i in os.listdir(dir):\n",
    "    print(i)"
   ]
  }
 ],
 "metadata": {
  "kernelspec": {
   "display_name": "Python 3.10.6 64-bit",
   "language": "python",
   "name": "python3"
  },
  "language_info": {
   "codemirror_mode": {
    "name": "ipython",
    "version": 3
   },
   "file_extension": ".py",
   "mimetype": "text/x-python",
   "name": "python",
   "nbconvert_exporter": "python",
   "pygments_lexer": "ipython3",
   "version": "3.10.6"
  },
  "orig_nbformat": 4,
  "vscode": {
   "interpreter": {
    "hash": "a42ccb73e7d9bfdf27e036f1d2b8b681e55fc0743cc5586bc2474d4a60f4b886"
   }
  }
 },
 "nbformat": 4,
 "nbformat_minor": 2
}
